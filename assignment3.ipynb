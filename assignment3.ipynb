{
 "cells": [
  {
   "cell_type": "code",
   "execution_count": null,
   "metadata": {
    "collapsed": true,
    "ExecuteTime": {
     "start_time": "2023-06-18T03:00:39.382241Z",
     "end_time": "2023-06-18T03:00:39.402235Z"
    }
   },
   "outputs": [],
   "source": [
    "# 你提供的库\n",
    "import numpy as np\n",
    "import matplotlib.pyplot as plt\n",
    "from PIL import Image\n",
    "from scipy import fftpack, signal\n",
    "from scipy.ndimage import rotate"
   ]
  },
  {
   "cell_type": "code",
   "execution_count": 3,
   "outputs": [],
   "source": [
    "\n",
    "# 接着是你提供的代码部分 (假设你提供的所有函数都在这个部分之前定义过了)\n",
    "\n",
    "# 函数模拟运动模糊\n",
    "def motion_blur_kernel(size, angle):\n",
    "    kernel = np.zeros((size, size))\n",
    "    kernel[size // 2, :] = np.ones(size)\n",
    "    kernel = rotate(kernel, angle, reshape=False)\n",
    "    return kernel / size\n",
    "\n",
    "# 函数模拟图像受到运动模糊和加性高斯噪声的影响\n",
    "def degrade_image(image, kernel_size=15, angle=90, noise_std=10):\n",
    "    kernel = motion_blur_kernel(kernel_size, angle)\n",
    "    blurred_image = signal.convolve2d(image, kernel, 'same')\n",
    "    noisy_image = blurred_image + np.random.normal(0, noise_std, image.shape)\n",
    "    return noisy_image\n",
    "\n",
    "# 函数恢复退化的图像\n",
    "def restore_image(degraded_image, kernel_size=15, angle=90, noise_std=10, reg_param=0.01):\n",
    "    kernel = motion_blur_kernel(kernel_size, angle)\n",
    "    H = np.fft.fft2(kernel, s=degraded_image.shape) # 使用numpy而不是scipy\n",
    "    G = np.fft.fft2(degraded_image)\n",
    "    F_hat = np.conj(H) / (np.abs(H) ** 2 + reg_param) * G\n",
    "    restored_image = np.fft.ifft2(F_hat)\n",
    "    return np.abs(restored_image)"
   ],
   "metadata": {
    "collapsed": false,
    "ExecuteTime": {
     "start_time": "2023-06-18T03:30:37.315124Z",
     "end_time": "2023-06-18T03:30:37.331107Z"
    }
   }
  },
  {
   "cell_type": "code",
   "execution_count": 4,
   "outputs": [],
   "source": [
    "\n",
    "# 加载图像\n",
    "img = Image.open('lena-512-gray.png').convert('L')\n",
    "img.show()\n",
    "img_array=np.array(img)"
   ],
   "metadata": {
    "collapsed": false,
    "ExecuteTime": {
     "start_time": "2023-06-18T03:30:38.781828Z",
     "end_time": "2023-06-18T03:30:42.060141Z"
    }
   }
  },
  {
   "cell_type": "code",
   "execution_count": 6,
   "outputs": [],
   "source": [
    "# 退化图像\n",
    "degraded_image = degrade_image(img_array)\n",
    "Image.fromarray(degraded_image).show()\n",
    "# 显示退化的图像\n",
    "# 恢复图像\n",
    "restored_image = restore_image(degraded_image)\n",
    "# 量化和剪裁像素值\n",
    "restored_image_quantized = np.clip(restored_image, 0, 255).astype(np.uint8)\n",
    "\n",
    "# 显示恢复的图像\n",
    "Image.fromarray(restored_image_quantized).show()\n"
   ],
   "metadata": {
    "collapsed": false,
    "ExecuteTime": {
     "start_time": "2023-06-18T03:30:49.478217Z",
     "end_time": "2023-06-18T03:30:56.132243Z"
    }
   }
  },
  {
   "cell_type": "code",
   "execution_count": 1,
   "outputs": [],
   "source": [
    "import numpy as np\n",
    "from scipy import signal\n",
    "from scipy.ndimage import rotate\n",
    "from PIL import Image\n",
    "\n",
    "# 函数模拟运动模糊\n",
    "def motion_blur_kernel(size, angle):\n",
    "    kernel = np.zeros((size, size))\n",
    "    kernel[size // 2, :] = np.ones(size)\n",
    "    kernel = rotate(kernel, angle, reshape=False)\n",
    "    return kernel / size\n",
    "\n",
    "# 函数模拟图像受到运动模糊和加性高斯噪声的影响\n",
    "def degrade_image(image, kernel_size=15, angle=30, noise_std=10):\n",
    "    kernel = motion_blur_kernel(kernel_size, angle)\n",
    "    blurred_image = signal.convolve2d(image, kernel, 'same')\n",
    "    noisy_image = blurred_image + np.random.normal(0, noise_std, image.shape)\n",
    "    return noisy_image\n",
    "\n",
    "# 使用维纳滤波器恢复退化的图像\n",
    "def wiener_filter(degraded_image, kernel, noise_var):\n",
    "    kernel_ft = np.fft.fft2(kernel, s=degraded_image.shape)\n",
    "    degraded_ft = np.fft.fft2(degraded_image)\n",
    "    ratio = np.conj(kernel_ft) / (np.abs(kernel_ft) ** 2 + noise_var)\n",
    "    enhanced_ft = ratio * degraded_ft\n",
    "    enhanced_image = np.fft.ifft2(enhanced_ft)\n",
    "    return np.real(enhanced_image)\n",
    "\n",
    "# 加载图像\n",
    "img = np.array(Image.open('lena-512-gray.png').convert('L'))\n",
    "\n",
    "# 退化图像\n",
    "kernel_size = 15\n",
    "angle = 30\n",
    "noise_std = 10\n",
    "degraded_image = degrade_image(img, kernel_size, angle, noise_std)\n",
    "\n",
    "# 恢复图像\n",
    "kernel = motion_blur_kernel(kernel_size, angle)\n",
    "restored_image = wiener_filter(degraded_image, kernel, noise_std**2)\n",
    "\n",
    "# 调整像素范围和数据类型\n",
    "restored_image = np.clip(restored_image, 0, 255).astype(np.uint8)\n",
    "\n",
    "# 显示图像\n",
    "Image.fromarray(img).show(title=\"Original\")\n",
    "Image.fromarray(degraded_image).show(title=\"Degraded\")\n",
    "Image.fromarray(restored_image).show(title=\"Restored with Wiener Filter\")\n"
   ],
   "metadata": {
    "collapsed": false,
    "ExecuteTime": {
     "start_time": "2023-06-18T03:29:48.485572Z",
     "end_time": "2023-06-18T03:29:59.456524Z"
    }
   }
  },
  {
   "cell_type": "code",
   "execution_count": 2,
   "outputs": [
    {
     "ename": "KeyboardInterrupt",
     "evalue": "",
     "output_type": "error",
     "traceback": [
      "\u001B[1;31m---------------------------------------------------------------------------\u001B[0m",
      "\u001B[1;31mKeyboardInterrupt\u001B[0m                         Traceback (most recent call last)",
      "Input \u001B[1;32mIn [2]\u001B[0m, in \u001B[0;36m<cell line: 49>\u001B[1;34m()\u001B[0m\n\u001B[0;32m     47\u001B[0m Image\u001B[38;5;241m.\u001B[39mfromarray(img)\u001B[38;5;241m.\u001B[39mshow(title\u001B[38;5;241m=\u001B[39m\u001B[38;5;124m\"\u001B[39m\u001B[38;5;124mOriginal\u001B[39m\u001B[38;5;124m\"\u001B[39m)\n\u001B[0;32m     48\u001B[0m Image\u001B[38;5;241m.\u001B[39mfromarray(degraded_image)\u001B[38;5;241m.\u001B[39mshow(title\u001B[38;5;241m=\u001B[39m\u001B[38;5;124m\"\u001B[39m\u001B[38;5;124mDegraded\u001B[39m\u001B[38;5;124m\"\u001B[39m)\n\u001B[1;32m---> 49\u001B[0m \u001B[43mImage\u001B[49m\u001B[38;5;241;43m.\u001B[39;49m\u001B[43mfromarray\u001B[49m\u001B[43m(\u001B[49m\u001B[43mrestored_image\u001B[49m\u001B[43m)\u001B[49m\u001B[38;5;241;43m.\u001B[39;49m\u001B[43mshow\u001B[49m\u001B[43m(\u001B[49m\u001B[43mtitle\u001B[49m\u001B[38;5;241;43m=\u001B[39;49m\u001B[38;5;124;43m\"\u001B[39;49m\u001B[38;5;124;43mRestored with Wiener Filter\u001B[39;49m\u001B[38;5;124;43m\"\u001B[39;49m\u001B[43m)\u001B[49m\n",
      "File \u001B[1;32m~\\anaconda3\\envs\\pytorch\\lib\\site-packages\\PIL\\Image.py:2374\u001B[0m, in \u001B[0;36mImage.show\u001B[1;34m(self, title)\u001B[0m\n\u001B[0;32m   2354\u001B[0m \u001B[38;5;28;01mdef\u001B[39;00m \u001B[38;5;21mshow\u001B[39m(\u001B[38;5;28mself\u001B[39m, title\u001B[38;5;241m=\u001B[39m\u001B[38;5;28;01mNone\u001B[39;00m):\n\u001B[0;32m   2355\u001B[0m     \u001B[38;5;124;03m\"\"\"\u001B[39;00m\n\u001B[0;32m   2356\u001B[0m \u001B[38;5;124;03m    Displays this image. This method is mainly intended for debugging purposes.\u001B[39;00m\n\u001B[0;32m   2357\u001B[0m \n\u001B[1;32m   (...)\u001B[0m\n\u001B[0;32m   2371\u001B[0m \u001B[38;5;124;03m    :param title: Optional title to use for the image window, where possible.\u001B[39;00m\n\u001B[0;32m   2372\u001B[0m \u001B[38;5;124;03m    \"\"\"\u001B[39;00m\n\u001B[1;32m-> 2374\u001B[0m     \u001B[43m_show\u001B[49m\u001B[43m(\u001B[49m\u001B[38;5;28;43mself\u001B[39;49m\u001B[43m,\u001B[49m\u001B[43m \u001B[49m\u001B[43mtitle\u001B[49m\u001B[38;5;241;43m=\u001B[39;49m\u001B[43mtitle\u001B[49m\u001B[43m)\u001B[49m\n",
      "File \u001B[1;32m~\\anaconda3\\envs\\pytorch\\lib\\site-packages\\PIL\\Image.py:3372\u001B[0m, in \u001B[0;36m_show\u001B[1;34m(image, **options)\u001B[0m\n\u001B[0;32m   3369\u001B[0m \u001B[38;5;28;01mdef\u001B[39;00m \u001B[38;5;21m_show\u001B[39m(image, \u001B[38;5;241m*\u001B[39m\u001B[38;5;241m*\u001B[39moptions):\n\u001B[0;32m   3370\u001B[0m     \u001B[38;5;28;01mfrom\u001B[39;00m \u001B[38;5;21;01m.\u001B[39;00m \u001B[38;5;28;01mimport\u001B[39;00m ImageShow\n\u001B[1;32m-> 3372\u001B[0m     \u001B[43mImageShow\u001B[49m\u001B[38;5;241;43m.\u001B[39;49m\u001B[43mshow\u001B[49m\u001B[43m(\u001B[49m\u001B[43mimage\u001B[49m\u001B[43m,\u001B[49m\u001B[43m \u001B[49m\u001B[38;5;241;43m*\u001B[39;49m\u001B[38;5;241;43m*\u001B[39;49m\u001B[43moptions\u001B[49m\u001B[43m)\u001B[49m\n",
      "File \u001B[1;32m~\\anaconda3\\envs\\pytorch\\lib\\site-packages\\PIL\\ImageShow.py:62\u001B[0m, in \u001B[0;36mshow\u001B[1;34m(image, title, **options)\u001B[0m\n\u001B[0;32m     53\u001B[0m \u001B[38;5;124mr\u001B[39m\u001B[38;5;124;03m\"\"\"\u001B[39;00m\n\u001B[0;32m     54\u001B[0m \u001B[38;5;124;03mDisplay a given image.\u001B[39;00m\n\u001B[0;32m     55\u001B[0m \n\u001B[1;32m   (...)\u001B[0m\n\u001B[0;32m     59\u001B[0m \u001B[38;5;124;03m:returns: ``True`` if a suitable viewer was found, ``False`` otherwise.\u001B[39;00m\n\u001B[0;32m     60\u001B[0m \u001B[38;5;124;03m\"\"\"\u001B[39;00m\n\u001B[0;32m     61\u001B[0m \u001B[38;5;28;01mfor\u001B[39;00m viewer \u001B[38;5;129;01min\u001B[39;00m _viewers:\n\u001B[1;32m---> 62\u001B[0m     \u001B[38;5;28;01mif\u001B[39;00m \u001B[43mviewer\u001B[49m\u001B[38;5;241;43m.\u001B[39;49m\u001B[43mshow\u001B[49m\u001B[43m(\u001B[49m\u001B[43mimage\u001B[49m\u001B[43m,\u001B[49m\u001B[43m \u001B[49m\u001B[43mtitle\u001B[49m\u001B[38;5;241;43m=\u001B[39;49m\u001B[43mtitle\u001B[49m\u001B[43m,\u001B[49m\u001B[43m \u001B[49m\u001B[38;5;241;43m*\u001B[39;49m\u001B[38;5;241;43m*\u001B[39;49m\u001B[43moptions\u001B[49m\u001B[43m)\u001B[49m:\n\u001B[0;32m     63\u001B[0m         \u001B[38;5;28;01mreturn\u001B[39;00m \u001B[38;5;28;01mTrue\u001B[39;00m\n\u001B[0;32m     64\u001B[0m \u001B[38;5;28;01mreturn\u001B[39;00m \u001B[38;5;28;01mFalse\u001B[39;00m\n",
      "File \u001B[1;32m~\\anaconda3\\envs\\pytorch\\lib\\site-packages\\PIL\\ImageShow.py:86\u001B[0m, in \u001B[0;36mViewer.show\u001B[1;34m(self, image, **options)\u001B[0m\n\u001B[0;32m     83\u001B[0m     \u001B[38;5;28;01mif\u001B[39;00m image\u001B[38;5;241m.\u001B[39mmode \u001B[38;5;241m!=\u001B[39m base:\n\u001B[0;32m     84\u001B[0m         image \u001B[38;5;241m=\u001B[39m image\u001B[38;5;241m.\u001B[39mconvert(base)\n\u001B[1;32m---> 86\u001B[0m \u001B[38;5;28;01mreturn\u001B[39;00m \u001B[38;5;28;43mself\u001B[39;49m\u001B[38;5;241;43m.\u001B[39;49m\u001B[43mshow_image\u001B[49m\u001B[43m(\u001B[49m\u001B[43mimage\u001B[49m\u001B[43m,\u001B[49m\u001B[43m \u001B[49m\u001B[38;5;241;43m*\u001B[39;49m\u001B[38;5;241;43m*\u001B[39;49m\u001B[43moptions\u001B[49m\u001B[43m)\u001B[49m\n",
      "File \u001B[1;32m~\\anaconda3\\envs\\pytorch\\lib\\site-packages\\PIL\\ImageShow.py:112\u001B[0m, in \u001B[0;36mViewer.show_image\u001B[1;34m(self, image, **options)\u001B[0m\n\u001B[0;32m    110\u001B[0m \u001B[38;5;28;01mdef\u001B[39;00m \u001B[38;5;21mshow_image\u001B[39m(\u001B[38;5;28mself\u001B[39m, image, \u001B[38;5;241m*\u001B[39m\u001B[38;5;241m*\u001B[39moptions):\n\u001B[0;32m    111\u001B[0m     \u001B[38;5;124;03m\"\"\"Display the given image.\"\"\"\u001B[39;00m\n\u001B[1;32m--> 112\u001B[0m     \u001B[38;5;28;01mreturn\u001B[39;00m \u001B[38;5;28;43mself\u001B[39;49m\u001B[38;5;241;43m.\u001B[39;49m\u001B[43mshow_file\u001B[49m\u001B[43m(\u001B[49m\u001B[38;5;28;43mself\u001B[39;49m\u001B[38;5;241;43m.\u001B[39;49m\u001B[43msave_image\u001B[49m\u001B[43m(\u001B[49m\u001B[43mimage\u001B[49m\u001B[43m)\u001B[49m\u001B[43m,\u001B[49m\u001B[43m \u001B[49m\u001B[38;5;241;43m*\u001B[39;49m\u001B[38;5;241;43m*\u001B[39;49m\u001B[43moptions\u001B[49m\u001B[43m)\u001B[49m\n",
      "File \u001B[1;32m~\\anaconda3\\envs\\pytorch\\lib\\site-packages\\PIL\\ImageShow.py:128\u001B[0m, in \u001B[0;36mViewer.show_file\u001B[1;34m(self, path, **options)\u001B[0m\n\u001B[0;32m    126\u001B[0m     \u001B[38;5;28;01melse\u001B[39;00m:\n\u001B[0;32m    127\u001B[0m         \u001B[38;5;28;01mraise\u001B[39;00m \u001B[38;5;167;01mTypeError\u001B[39;00m(\u001B[38;5;124m\"\u001B[39m\u001B[38;5;124mMissing required argument: \u001B[39m\u001B[38;5;124m'\u001B[39m\u001B[38;5;124mpath\u001B[39m\u001B[38;5;124m'\u001B[39m\u001B[38;5;124m\"\u001B[39m)\n\u001B[1;32m--> 128\u001B[0m \u001B[43mos\u001B[49m\u001B[38;5;241;43m.\u001B[39;49m\u001B[43msystem\u001B[49m\u001B[43m(\u001B[49m\u001B[38;5;28;43mself\u001B[39;49m\u001B[38;5;241;43m.\u001B[39;49m\u001B[43mget_command\u001B[49m\u001B[43m(\u001B[49m\u001B[43mpath\u001B[49m\u001B[43m,\u001B[49m\u001B[43m \u001B[49m\u001B[38;5;241;43m*\u001B[39;49m\u001B[38;5;241;43m*\u001B[39;49m\u001B[43moptions\u001B[49m\u001B[43m)\u001B[49m\u001B[43m)\u001B[49m\n\u001B[0;32m    129\u001B[0m \u001B[38;5;28;01mreturn\u001B[39;00m \u001B[38;5;241m1\u001B[39m\n",
      "\u001B[1;31mKeyboardInterrupt\u001B[0m: "
     ]
    }
   ],
   "source": [
    "import numpy as np\n",
    "from scipy import signal\n",
    "from scipy.ndimage import rotate\n",
    "from PIL import Image\n",
    "\n",
    "# 函数模拟运动模糊\n",
    "def motion_blur_kernel(size, angle):\n",
    "    kernel = np.zeros((size, size))\n",
    "    kernel[size // 2, :] = np.ones(size)\n",
    "    kernel = rotate(kernel, angle, reshape=False)\n",
    "    return kernel / size\n",
    "\n",
    "# 函数模拟图像受到运动模糊和加性高斯噪声的影响\n",
    "def degrade_image(image, kernel_size=15, angle=30, noise_std=10):\n",
    "    kernel = motion_blur_kernel(kernel_size, angle)\n",
    "    blurred_image = signal.convolve2d(image, kernel, 'same')\n",
    "    noisy_image = blurred_image + np.random.normal(0, noise_std, image.shape)\n",
    "    return noisy_image\n",
    "\n",
    "# 使用维纳滤波器恢复退化的图像\n",
    "def wiener_filter(degraded_image, kernel, noise_var):\n",
    "    kernel_ft = np.fft.fft2(kernel, s=degraded_image.shape)\n",
    "    degraded_ft = np.fft.fft2(degraded_image)\n",
    "    ratio = np.conj(kernel_ft) / (np.abs(kernel_ft) ** 2 + noise_var)\n",
    "    enhanced_ft = ratio * degraded_ft\n",
    "    enhanced_image = np.fft.ifft2(enhanced_ft)\n",
    "    return np.abs(enhanced_image)\n",
    "\n",
    "# 加载图像\n",
    "img = np.array(Image.open('lena-512-gray.png').convert('L'))\n",
    "\n",
    "# 退化图像\n",
    "kernel_size = 15\n",
    "angle = 30\n",
    "noise_std = 10\n",
    "degraded_image = degrade_image(img, kernel_size, angle, noise_std)\n",
    "\n",
    "# 恢复图像\n",
    "kernel = motion_blur_kernel(kernel_size, angle)\n",
    "restored_image = wiener_filter(degraded_image, kernel, noise_std**2)\n",
    "\n",
    "# 将图像范围缩放到 [0, 255]\n",
    "restored_image = (restored_image - np.min(restored_image)) * 255 / (np.max(restored_image) - np.min(restored_image))\n",
    "restored_image = restored_image.astype(np.uint8)\n",
    "\n",
    "# 显示图像\n",
    "Image.fromarray(img).show(title=\"Original\")\n",
    "Image.fromarray(degraded_image).show(title=\"Degraded\")\n",
    "Image.fromarray(restored_image).show(title=\"Restored with Wiener Filter\")\n"
   ],
   "metadata": {
    "collapsed": false,
    "ExecuteTime": {
     "start_time": "2023-06-18T03:14:29.828325Z",
     "end_time": "2023-06-18T03:14:39.883876Z"
    }
   }
  },
  {
   "cell_type": "code",
   "execution_count": 25,
   "outputs": [
    {
     "ename": "ValueError",
     "evalue": "convolve2d inputs must both be 2-D arrays",
     "output_type": "error",
     "traceback": [
      "\u001B[1;31m---------------------------------------------------------------------------\u001B[0m",
      "\u001B[1;31mValueError\u001B[0m                                Traceback (most recent call last)",
      "Input \u001B[1;32mIn [25]\u001B[0m, in \u001B[0;36m<cell line: 45>\u001B[1;34m()\u001B[0m\n\u001B[0;32m     43\u001B[0m \u001B[38;5;66;03m# 恢复图像并滤除高斯噪声\u001B[39;00m\n\u001B[0;32m     44\u001B[0m kernel \u001B[38;5;241m=\u001B[39m motion_blur_kernel(kernel_size, angle)\n\u001B[1;32m---> 45\u001B[0m restored_image \u001B[38;5;241m=\u001B[39m \u001B[43mwiener_filter\u001B[49m\u001B[43m(\u001B[49m\u001B[43mdegraded_image\u001B[49m\u001B[43m,\u001B[49m\u001B[43m \u001B[49m\u001B[43mkernel\u001B[49m\u001B[43m,\u001B[49m\u001B[43m \u001B[49m\u001B[43mnoise_std\u001B[49m\u001B[38;5;241;43m*\u001B[39;49m\u001B[38;5;241;43m*\u001B[39;49m\u001B[38;5;241;43m2\u001B[39;49m\u001B[43m,\u001B[49m\u001B[43m \u001B[49m\u001B[43mnoise_std\u001B[49m\u001B[43m)\u001B[49m\n\u001B[0;32m     47\u001B[0m \u001B[38;5;66;03m# 显示图像\u001B[39;00m\n\u001B[0;32m     48\u001B[0m Image\u001B[38;5;241m.\u001B[39mfromarray(img)\u001B[38;5;241m.\u001B[39mshow(title\u001B[38;5;241m=\u001B[39m\u001B[38;5;124m\"\u001B[39m\u001B[38;5;124mOriginal\u001B[39m\u001B[38;5;124m\"\u001B[39m)\n",
      "Input \u001B[1;32mIn [25]\u001B[0m, in \u001B[0;36mwiener_filter\u001B[1;34m(degraded_image, kernel, noise_var, noise_std)\u001B[0m\n\u001B[0;32m     29\u001B[0m kernel_smooth \u001B[38;5;241m=\u001B[39m signal\u001B[38;5;241m.\u001B[39mgaussian(\u001B[38;5;241m3\u001B[39m \u001B[38;5;241m*\u001B[39m noise_std, noise_std)\n\u001B[0;32m     30\u001B[0m kernel_smooth \u001B[38;5;241m/\u001B[39m\u001B[38;5;241m=\u001B[39m np\u001B[38;5;241m.\u001B[39msum(kernel_smooth)\n\u001B[1;32m---> 31\u001B[0m restored_image \u001B[38;5;241m=\u001B[39m \u001B[43msignal\u001B[49m\u001B[38;5;241;43m.\u001B[39;49m\u001B[43mconvolve2d\u001B[49m\u001B[43m(\u001B[49m\u001B[43mnp\u001B[49m\u001B[38;5;241;43m.\u001B[39;49m\u001B[43mreal\u001B[49m\u001B[43m(\u001B[49m\u001B[43menhanced_image\u001B[49m\u001B[43m)\u001B[49m\u001B[43m,\u001B[49m\u001B[43m \u001B[49m\u001B[43mkernel_smooth\u001B[49m\u001B[43m,\u001B[49m\u001B[43m \u001B[49m\u001B[38;5;124;43m'\u001B[39;49m\u001B[38;5;124;43msame\u001B[39;49m\u001B[38;5;124;43m'\u001B[39;49m\u001B[43m)\u001B[49m\n\u001B[0;32m     32\u001B[0m \u001B[38;5;28;01mreturn\u001B[39;00m np\u001B[38;5;241m.\u001B[39mclip(restored_image, \u001B[38;5;241m0\u001B[39m, \u001B[38;5;241m255\u001B[39m)\u001B[38;5;241m.\u001B[39mastype(np\u001B[38;5;241m.\u001B[39muint8)\n",
      "File \u001B[1;32m~\\anaconda3\\envs\\pytorch\\lib\\site-packages\\scipy\\signal\\_signaltools.py:1710\u001B[0m, in \u001B[0;36mconvolve2d\u001B[1;34m(in1, in2, mode, boundary, fillvalue)\u001B[0m\n\u001B[0;32m   1707\u001B[0m in2 \u001B[38;5;241m=\u001B[39m np\u001B[38;5;241m.\u001B[39masarray(in2)\n\u001B[0;32m   1709\u001B[0m \u001B[38;5;28;01mif\u001B[39;00m \u001B[38;5;129;01mnot\u001B[39;00m in1\u001B[38;5;241m.\u001B[39mndim \u001B[38;5;241m==\u001B[39m in2\u001B[38;5;241m.\u001B[39mndim \u001B[38;5;241m==\u001B[39m \u001B[38;5;241m2\u001B[39m:\n\u001B[1;32m-> 1710\u001B[0m     \u001B[38;5;28;01mraise\u001B[39;00m \u001B[38;5;167;01mValueError\u001B[39;00m(\u001B[38;5;124m'\u001B[39m\u001B[38;5;124mconvolve2d inputs must both be 2-D arrays\u001B[39m\u001B[38;5;124m'\u001B[39m)\n\u001B[0;32m   1712\u001B[0m \u001B[38;5;28;01mif\u001B[39;00m _inputs_swap_needed(mode, in1\u001B[38;5;241m.\u001B[39mshape, in2\u001B[38;5;241m.\u001B[39mshape):\n\u001B[0;32m   1713\u001B[0m     in1, in2 \u001B[38;5;241m=\u001B[39m in2, in1\n",
      "\u001B[1;31mValueError\u001B[0m: convolve2d inputs must both be 2-D arrays"
     ]
    }
   ],
   "source": [
    "import numpy as np\n",
    "from scipy import signal\n",
    "from scipy.ndimage import rotate\n",
    "from PIL import Image\n",
    "\n",
    "# 函数模拟运动模糊\n",
    "def motion_blur_kernel(size, angle):\n",
    "    kernel = np.zeros((size, size))\n",
    "    kernel[size // 2, :] = np.ones(size)\n",
    "    kernel = rotate(kernel, angle, reshape=False)\n",
    "    return kernel / size\n",
    "\n",
    "# 函数模拟图像受到运动模糊和加性高斯噪声的影响\n",
    "def degrade_image(image, kernel_size=15, angle=30, noise_std=10):\n",
    "    kernel = motion_blur_kernel(kernel_size, angle)\n",
    "    blurred_image = signal.convolve2d(image, kernel, 'same')\n",
    "    noisy_image = blurred_image + np.random.normal(0, noise_std, image.shape)\n",
    "    return noisy_image\n",
    "\n",
    "# 使用维纳滤波器恢复退化的图像并滤除高斯噪声\n",
    "def wiener_filter(degraded_image, kernel, noise_var, noise_std):\n",
    "    kernel_ft = np.fft.fft2(kernel, s=degraded_image.shape)\n",
    "    degraded_ft = np.fft.fft2(degraded_image)\n",
    "    ratio = np.conj(kernel_ft) / (np.abs(kernel_ft) ** 2 + noise_var)\n",
    "    enhanced_ft = ratio * degraded_ft\n",
    "    enhanced_image = np.fft.ifft2(enhanced_ft)\n",
    "\n",
    "    # 应用高斯平滑滤波器以降低噪声\n",
    "    kernel_smooth = signal.gaussian(3 * noise_std, noise_std)\n",
    "    kernel_smooth /= np.sum(kernel_smooth)\n",
    "    restored_image = signal.convolve2d(np.real(enhanced_image), kernel_smooth, 'same')\n",
    "    return np.clip(restored_image, 0, 255).astype(np.uint8)\n",
    "\n",
    "# 加载图像\n",
    "img = np.array(Image.open('lena-512-gray.png').convert('L'))\n",
    "\n",
    "# 退化图像\n",
    "kernel_size = 15\n",
    "angle = 30\n",
    "noise_std = 10\n",
    "degraded_image = degrade_image(img, kernel_size, angle, noise_std)\n",
    "\n",
    "# 恢复图像并滤除高斯噪声\n",
    "kernel = motion_blur_kernel(kernel_size, angle)\n",
    "restored_image = wiener_filter(degraded_image, kernel, noise_std**2, noise_std)\n",
    "\n",
    "# 显示图像\n",
    "Image.fromarray(img).show(title=\"Original\")\n",
    "Image.fromarray(degraded_image).show(title=\"Degraded\")\n",
    "Image.fromarray(restored_image).show(title=\"Restored with Wiener Filter\")\n"
   ],
   "metadata": {
    "collapsed": false
   }
  },
  {
   "cell_type": "code",
   "execution_count": 26,
   "outputs": [
    {
     "ename": "ValueError",
     "evalue": "volume and kernel should have the same dimensionality",
     "output_type": "error",
     "traceback": [
      "\u001B[1;31m---------------------------------------------------------------------------\u001B[0m",
      "\u001B[1;31mValueError\u001B[0m                                Traceback (most recent call last)",
      "Input \u001B[1;32mIn [26]\u001B[0m, in \u001B[0;36m<cell line: 45>\u001B[1;34m()\u001B[0m\n\u001B[0;32m     43\u001B[0m \u001B[38;5;66;03m# 恢复图像并滤除高斯噪声\u001B[39;00m\n\u001B[0;32m     44\u001B[0m kernel \u001B[38;5;241m=\u001B[39m motion_blur_kernel(kernel_size, angle)\n\u001B[1;32m---> 45\u001B[0m restored_image \u001B[38;5;241m=\u001B[39m \u001B[43mwiener_filter\u001B[49m\u001B[43m(\u001B[49m\u001B[43mdegraded_image\u001B[49m\u001B[43m,\u001B[49m\u001B[43m \u001B[49m\u001B[43mkernel\u001B[49m\u001B[43m,\u001B[49m\u001B[43m \u001B[49m\u001B[43mnoise_std\u001B[49m\u001B[38;5;241;43m*\u001B[39;49m\u001B[38;5;241;43m*\u001B[39;49m\u001B[38;5;241;43m2\u001B[39;49m\u001B[43m,\u001B[49m\u001B[43m \u001B[49m\u001B[43mnoise_std\u001B[49m\u001B[43m)\u001B[49m\n\u001B[0;32m     47\u001B[0m \u001B[38;5;66;03m# 显示图像\u001B[39;00m\n\u001B[0;32m     48\u001B[0m Image\u001B[38;5;241m.\u001B[39mfromarray(img)\u001B[38;5;241m.\u001B[39mshow(title\u001B[38;5;241m=\u001B[39m\u001B[38;5;124m\"\u001B[39m\u001B[38;5;124mOriginal\u001B[39m\u001B[38;5;124m\"\u001B[39m)\n",
      "Input \u001B[1;32mIn [26]\u001B[0m, in \u001B[0;36mwiener_filter\u001B[1;34m(degraded_image, kernel, noise_var, noise_std)\u001B[0m\n\u001B[0;32m     29\u001B[0m kernel_smooth \u001B[38;5;241m=\u001B[39m signal\u001B[38;5;241m.\u001B[39mgaussian(\u001B[38;5;241m3\u001B[39m \u001B[38;5;241m*\u001B[39m noise_std, noise_std)\n\u001B[0;32m     30\u001B[0m kernel_smooth \u001B[38;5;241m/\u001B[39m\u001B[38;5;241m=\u001B[39m np\u001B[38;5;241m.\u001B[39msum(kernel_smooth)\n\u001B[1;32m---> 31\u001B[0m restored_image \u001B[38;5;241m=\u001B[39m \u001B[43msignal\u001B[49m\u001B[38;5;241;43m.\u001B[39;49m\u001B[43mconvolve\u001B[49m\u001B[43m(\u001B[49m\u001B[43mnp\u001B[49m\u001B[38;5;241;43m.\u001B[39;49m\u001B[43mreal\u001B[49m\u001B[43m(\u001B[49m\u001B[43menhanced_image\u001B[49m\u001B[43m)\u001B[49m\u001B[43m,\u001B[49m\u001B[43m \u001B[49m\u001B[43mkernel_smooth\u001B[49m\u001B[43m,\u001B[49m\u001B[43m \u001B[49m\u001B[43mmode\u001B[49m\u001B[38;5;241;43m=\u001B[39;49m\u001B[38;5;124;43m'\u001B[39;49m\u001B[38;5;124;43msame\u001B[39;49m\u001B[38;5;124;43m'\u001B[39;49m\u001B[43m)\u001B[49m\n\u001B[0;32m     32\u001B[0m \u001B[38;5;28;01mreturn\u001B[39;00m np\u001B[38;5;241m.\u001B[39mclip(restored_image, \u001B[38;5;241m0\u001B[39m, \u001B[38;5;241m255\u001B[39m)\u001B[38;5;241m.\u001B[39mastype(np\u001B[38;5;241m.\u001B[39muint8)\n",
      "File \u001B[1;32m~\\anaconda3\\envs\\pytorch\\lib\\site-packages\\scipy\\signal\\_signaltools.py:1397\u001B[0m, in \u001B[0;36mconvolve\u001B[1;34m(in1, in2, mode, method)\u001B[0m\n\u001B[0;32m   1395\u001B[0m     \u001B[38;5;28;01mreturn\u001B[39;00m volume \u001B[38;5;241m*\u001B[39m kernel\n\u001B[0;32m   1396\u001B[0m \u001B[38;5;28;01melif\u001B[39;00m volume\u001B[38;5;241m.\u001B[39mndim \u001B[38;5;241m!=\u001B[39m kernel\u001B[38;5;241m.\u001B[39mndim:\n\u001B[1;32m-> 1397\u001B[0m     \u001B[38;5;28;01mraise\u001B[39;00m \u001B[38;5;167;01mValueError\u001B[39;00m(\u001B[38;5;124m\"\u001B[39m\u001B[38;5;124mvolume and kernel should have the same \u001B[39m\u001B[38;5;124m\"\u001B[39m\n\u001B[0;32m   1398\u001B[0m                      \u001B[38;5;124m\"\u001B[39m\u001B[38;5;124mdimensionality\u001B[39m\u001B[38;5;124m\"\u001B[39m)\n\u001B[0;32m   1400\u001B[0m \u001B[38;5;28;01mif\u001B[39;00m _inputs_swap_needed(mode, volume\u001B[38;5;241m.\u001B[39mshape, kernel\u001B[38;5;241m.\u001B[39mshape):\n\u001B[0;32m   1401\u001B[0m     \u001B[38;5;66;03m# Convolution is commutative; order doesn't have any effect on output\u001B[39;00m\n\u001B[0;32m   1402\u001B[0m     volume, kernel \u001B[38;5;241m=\u001B[39m kernel, volume\n",
      "\u001B[1;31mValueError\u001B[0m: volume and kernel should have the same dimensionality"
     ]
    }
   ],
   "source": [
    "import numpy as np\n",
    "from scipy import signal\n",
    "from scipy.ndimage import rotate\n",
    "from PIL import Image\n",
    "\n",
    "# 函数模拟运动模糊\n",
    "def motion_blur_kernel(size, angle):\n",
    "    kernel = np.zeros((size, size))\n",
    "    kernel[size // 2, :] = np.ones(size)\n",
    "    kernel = rotate(kernel, angle, reshape=False)\n",
    "    return kernel / size\n",
    "\n",
    "# 函数模拟图像受到运动模糊和加性高斯噪声的影响\n",
    "def degrade_image(image, kernel_size=15, angle=30, noise_std=10):\n",
    "    kernel = motion_blur_kernel(kernel_size, angle)\n",
    "    blurred_image = signal.convolve(image, kernel, mode='same')\n",
    "    noisy_image = blurred_image + np.random.normal(0, noise_std, image.shape)\n",
    "    return noisy_image\n",
    "\n",
    "# 使用维纳滤波器恢复退化的图像并滤除高斯噪声\n",
    "def wiener_filter(degraded_image, kernel, noise_var, noise_std):\n",
    "    kernel_ft = np.fft.fft2(kernel, s=degraded_image.shape)\n",
    "    degraded_ft = np.fft.fft2(degraded_image)\n",
    "    ratio = np.conj(kernel_ft) / (np.abs(kernel_ft) ** 2 + noise_var)\n",
    "    enhanced_ft = ratio * degraded_ft\n",
    "    enhanced_image = np.fft.ifft2(enhanced_ft)\n",
    "\n",
    "    # 应用高斯平滑滤波器以降低噪声\n",
    "    kernel_smooth = signal.gaussian(3 * noise_std, noise_std)\n",
    "    kernel_smooth /= np.sum(kernel_smooth)\n",
    "    restored_image = signal.convolve(np.real(enhanced_image), kernel_smooth, mode='same')\n",
    "    return np.clip(restored_image, 0, 255).astype(np.uint8)\n",
    "\n",
    "# 加载图像\n",
    "img = np.array(Image.open('lena-512-gray.png').convert('L'))\n",
    "\n",
    "# 退化图像\n",
    "kernel_size = 15\n",
    "angle = 30\n",
    "noise_std = 10\n",
    "degraded_image = degrade_image(img, kernel_size, angle, noise_std)\n",
    "\n",
    "# 恢复图像并滤除高斯噪声\n",
    "kernel = motion_blur_kernel(kernel_size, angle)\n",
    "restored_image = wiener_filter(degraded_image, kernel, noise_std**2, noise_std)\n",
    "\n",
    "# 显示图像\n",
    "Image.fromarray(img).show(title=\"Original\")\n",
    "Image.fromarray(degraded_image).show(title=\"Degraded\")\n",
    "Image.fromarray(restored_image).show(title=\"Restored with Wiener Filter\")\n"
   ],
   "metadata": {
    "collapsed": false
   }
  },
  {
   "cell_type": "code",
   "execution_count": 27,
   "outputs": [],
   "source": [
    "import numpy as np\n",
    "from scipy import signal\n",
    "from scipy.ndimage import rotate\n",
    "from PIL import Image\n",
    "\n",
    "# 函数模拟运动模糊\n",
    "def motion_blur_kernel(size, angle):\n",
    "    kernel = np.zeros((size, size))\n",
    "    kernel[size // 2, :] = np.ones(size)\n",
    "    kernel = rotate(kernel, angle, reshape=False)\n",
    "    return kernel / size\n",
    "\n",
    "# 函数模拟图像受到运动模糊和加性高斯噪声的影响\n",
    "def degrade_image(image, kernel_size=15, angle=30, noise_std=10):\n",
    "    kernel = motion_blur_kernel(kernel_size, angle)\n",
    "    blurred_image = signal.convolve2d(image, kernel, mode='same')\n",
    "    noisy_image = blurred_image + np.random.normal(0, noise_std, image.shape)\n",
    "    return noisy_image\n",
    "\n",
    "# 使用维纳滤波器恢复退化的图像并滤除高斯噪声\n",
    "def wiener_filter(degraded_image, kernel, noise_var):\n",
    "    kernel_ft = np.fft.fft2(kernel, s=degraded_image.shape)\n",
    "    degraded_ft = np.fft.fft2(degraded_image)\n",
    "    ratio = np.conj(kernel_ft) / (np.abs(kernel_ft) ** 2 + noise_var)\n",
    "    enhanced_ft = ratio * degraded_ft\n",
    "    enhanced_image = np.fft.ifft2(enhanced_ft)\n",
    "    restored_image = np.abs(enhanced_image)\n",
    "    return np.clip(restored_image, 0, 255).astype(np.uint8)\n",
    "\n",
    "# 加载图像\n",
    "img = np.array(Image.open('lena-512-gray.png').convert('L'))\n",
    "\n",
    "# 退化图像\n",
    "kernel_size = 15\n",
    "angle = 30\n",
    "noise_std = 10\n",
    "degraded_image = degrade_image(img, kernel_size, angle, noise_std)\n",
    "\n",
    "# 恢复图像并滤除高斯噪声\n",
    "kernel = motion_blur_kernel(kernel_size, angle)\n",
    "restored_image = wiener_filter(degraded_image, kernel, noise_std**2)\n",
    "\n",
    "# 显示图像\n",
    "Image.fromarray(img).show(title=\"Original\")\n",
    "Image.fromarray(degraded_image).show(title=\"Degraded\")\n",
    "Image.fromarray(restored_image).show(title=\"Restored with Wiener Filter\")\n"
   ],
   "metadata": {
    "collapsed": false,
    "ExecuteTime": {
     "start_time": "2023-06-18T03:17:23.234120Z",
     "end_time": "2023-06-18T03:17:33.391467Z"
    }
   }
  },
  {
   "cell_type": "code",
   "execution_count": null,
   "outputs": [],
   "source": [],
   "metadata": {
    "collapsed": false
   }
  }
 ],
 "metadata": {
  "kernelspec": {
   "name": "pytorch_jupyter",
   "language": "python",
   "display_name": "pytorch_jupyter"
  },
  "language_info": {
   "codemirror_mode": {
    "name": "ipython",
    "version": 2
   },
   "file_extension": ".py",
   "mimetype": "text/x-python",
   "name": "python",
   "nbconvert_exporter": "python",
   "pygments_lexer": "ipython2",
   "version": "2.7.6"
  }
 },
 "nbformat": 4,
 "nbformat_minor": 0
}
