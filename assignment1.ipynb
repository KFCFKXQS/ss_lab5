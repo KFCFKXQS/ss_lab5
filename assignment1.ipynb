{
 "cells": [
  {
   "cell_type": "code",
   "execution_count": null,
   "metadata": {
    "collapsed": true,
    "ExecuteTime": {
     "start_time": "2023-06-18T02:14:21.012892Z",
     "end_time": "2023-06-18T02:14:22.020896Z"
    }
   },
   "outputs": [],
   "source": [
    "import numpy as np\n",
    "import matplotlib.pyplot as plt\n",
    "from PIL import Image\n",
    "from scipy import fftpack"
   ]
  },
  {
   "cell_type": "code",
   "execution_count": null,
   "outputs": [],
   "source": [
    "# 自定义二维傅里叶变换（性能过差）\n",
    "def my_fftn(img):\n",
    "    h, w = img.shape\n",
    "    F = np.zeros((h,w), dtype=complex)\n",
    "    # 计算傅里叶变换\n",
    "    for u in range(h):\n",
    "        for v in range(w):\n",
    "            for x in range(h):\n",
    "                for y in range(w):\n",
    "                    F[u,v]+=img[x,y]*np.exp(-2j*np.pi*((u*x/h)+(v*y/w)))\n",
    "    return F"
   ],
   "metadata": {
    "collapsed": false,
    "ExecuteTime": {
     "start_time": "2023-06-18T02:14:22.024886Z",
     "end_time": "2023-06-18T02:14:22.034886Z"
    }
   }
  },
  {
   "cell_type": "code",
   "execution_count": null,
   "outputs": [],
   "source": [
    "# 改进（自定义FFT）\n",
    "# 自定义的一维fft，使用Cooley-Tukey递归算法\n",
    "def fft1d(x):\n",
    "    N = len(x)\n",
    "    if N<=1:\n",
    "        return x\n",
    "    even = fft1d(x[0::2])\n",
    "    odd = fft1d(x[1::2])\n",
    "    T = [np.exp(-2j*np.pi*k/N)*odd[k] for k in range(N//2)]\n",
    "    return [even[k]+T[k] for k in range(N//2)]+[even[k]-T[k] for k in range(N//2)]\n",
    "# 自定义的二维fft\n",
    "def fft2d(x):\n",
    "    temp = np.apply_along_axis(fft1d,1,x)\n",
    "    result = np.apply_along_axis(fft1d,0,temp)\n",
    "    return result"
   ],
   "metadata": {
    "collapsed": false,
    "ExecuteTime": {
     "start_time": "2023-06-18T02:14:22.040888Z",
     "end_time": "2023-06-18T02:14:22.058888Z"
    }
   }
  },
  {
   "cell_type": "code",
   "execution_count": null,
   "outputs": [],
   "source": [
    "# 自定义逆fft\n",
    "def ifft1d(x):\n",
    "    N = len(x)\n",
    "    if N <= 1:\n",
    "        return x\n",
    "    even = ifft1d(x[0::2])\n",
    "    odd = ifft1d(x[1::2])\n",
    "    T = [np.exp(2j * np.pi * k / N) * odd[k] for k in range(N // 2)]\n",
    "    return [(even[k] + T[k]) / 2 for k in range(N // 2)] + [(even[k] - T[k]) / 2 for k in range(N // 2)]\n",
    "\n",
    "def ifft2d(x):\n",
    "    temp = np.apply_along_axis(ifft1d, 1, x)\n",
    "    result = np.apply_along_axis(ifft1d, 0, temp)\n",
    "    return result"
   ],
   "metadata": {
    "collapsed": false,
    "ExecuteTime": {
     "start_time": "2023-06-18T02:14:22.054897Z",
     "end_time": "2023-06-18T02:14:22.071894Z"
    }
   }
  },
  {
   "cell_type": "code",
   "execution_count": null,
   "outputs": [],
   "source": [
    "# 频移\n",
    "def my_fftshift(F):\n",
    "    h,w =F.shape\n",
    "    cx, cy=h//2, w//2\n",
    "    shift_F = np.block([[F[cx:,cy:],F[cx:,:cy]],[F[:cx,cy:],F[:cx,:cy]]])\n",
    "    return shift_F"
   ],
   "metadata": {
    "collapsed": false,
    "ExecuteTime": {
     "start_time": "2023-06-18T02:14:22.070909Z",
     "end_time": "2023-06-18T02:14:22.091900Z"
    }
   }
  },
  {
   "cell_type": "code",
   "execution_count": null,
   "outputs": [],
   "source": [
    "# 打开图片\n",
    "img1 = Image.open('lena-512-gray.png').convert('L')\n",
    "img1_array=np.array(img1)"
   ],
   "metadata": {
    "collapsed": false,
    "ExecuteTime": {
     "start_time": "2023-06-18T02:14:29.392168Z",
     "end_time": "2023-06-18T02:14:29.432155Z"
    }
   }
  },
  {
   "cell_type": "code",
   "execution_count": null,
   "outputs": [],
   "source": [
    "# 自己实现的傅里叶变换,并使用频移获得频谱图\n",
    "F1 = fft2d(img1_array)\n",
    "F1_magnitude = np.abs(my_fftshift(F1))"
   ],
   "metadata": {
    "collapsed": false,
    "ExecuteTime": {
     "start_time": "2023-06-18T02:14:30.009800Z",
     "end_time": "2023-06-18T02:14:36.428605Z"
    }
   }
  },
  {
   "cell_type": "code",
   "execution_count": null,
   "outputs": [],
   "source": [
    "# 用fft-pack的内置函数\n",
    "F2 = fftpack.fftn(img1_array)\n",
    "F2_magnitude = np.abs(fftpack.fftshift(F2))"
   ],
   "metadata": {
    "collapsed": false,
    "ExecuteTime": {
     "start_time": "2023-06-18T02:14:37.178177Z",
     "end_time": "2023-06-18T02:14:37.199181Z"
    }
   }
  },
  {
   "cell_type": "code",
   "execution_count": null,
   "outputs": [],
   "source": [
    "# 在1e-8的精度下比较\n",
    "assert np.allclose(F1, F2, atol=1e-8,rtol=0),\"not equal\"\n",
    "assert np.allclose(F1_magnitude, F2_magnitude, atol=1e-8,rtol=0),\"not equal\"\n",
    "# 保存频谱图\n",
    "# 对数变换，使值域变为正值\n",
    "F1_magnitude_log = np.log1p(F1_magnitude)\n",
    "\n",
    "# 归一化到0-255\n",
    "F1_magnitude_rescale = 255 * (F1_magnitude_log - F1_magnitude_log.min()) / (F1_magnitude_log.max() - F1_magnitude_log.min())\n",
    "\n",
    "# 转为8位无符号整数\n",
    "F_magnitude_uint8 = np.uint8(F1_magnitude_rescale)\n",
    "\n",
    "# 转为Pillow图像并保存\n",
    "Image.fromarray(F_magnitude_uint8).save('lena-512-freq.png')"
   ],
   "metadata": {
    "collapsed": false,
    "ExecuteTime": {
     "start_time": "2023-06-18T02:14:40.352086Z",
     "end_time": "2023-06-18T02:14:40.410079Z"
    }
   }
  },
  {
   "cell_type": "code",
   "execution_count": null,
   "outputs": [],
   "source": [
    "# 定义滤波器\n",
    "# 理想低通滤波器\n",
    "def ideal_lowpass_filter(img,cutoff):\n",
    "    rows, cols=img.shape\n",
    "    crow, ccol=rows//2,cols//2\n",
    "    mask = np.zeros((rows,cols))\n",
    "    for i in range(rows):\n",
    "        for j in range(cols):\n",
    "            dist = np.sqrt((i-crow)**2+(j-ccol)**2)\n",
    "            if dist<=cutoff:\n",
    "                mask[i,j]=1\n",
    "    return mask\n",
    "\n",
    "# 理想高通滤波器\n",
    "def ideal_highpass_filter(img,cutoff):\n",
    "    rows, cols=img.shape\n",
    "    crow, ccol=rows//2,cols//2\n",
    "    mask = np.zeros((rows,cols))\n",
    "    for i in range(rows):\n",
    "        for j in range(cols):\n",
    "            dist = np.sqrt((i-crow)**2+(j-ccol)**2)\n",
    "            if dist>=cutoff:\n",
    "                mask[i,j]=1\n",
    "    return mask"
   ],
   "metadata": {
    "collapsed": false,
    "ExecuteTime": {
     "start_time": "2023-06-18T02:14:45.501772Z",
     "end_time": "2023-06-18T02:14:45.512763Z"
    }
   }
  },
  {
   "cell_type": "code",
   "execution_count": null,
   "outputs": [],
   "source": [
    "# 使用高通滤波器\n",
    "cutoff=50\n",
    "mask_highpass = ideal_highpass_filter(img1_array,cutoff=cutoff)\n",
    "F_filtered_highpass = F1*my_fftshift(mask_highpass)\n",
    "img_filtered_highpass_1=np.abs(ifft2d(F_filtered_highpass))\n",
    "img_filtered_highpass_2=np.abs(fftpack.ifftn(F_filtered_highpass))"
   ],
   "metadata": {
    "collapsed": false,
    "ExecuteTime": {
     "start_time": "2023-06-18T02:14:48.171299Z",
     "end_time": "2023-06-18T02:14:55.640941Z"
    }
   }
  },
  {
   "cell_type": "code",
   "execution_count": null,
   "outputs": [],
   "source": [
    "assert np.allclose(img_filtered_highpass_1,img_filtered_highpass_2,atol=1e-8,rtol=0),\"not equal\""
   ],
   "metadata": {
    "collapsed": false,
    "ExecuteTime": {
     "start_time": "2023-06-17T17:29:58.661625Z",
     "end_time": "2023-06-17T17:31:47.156518Z"
    }
   }
  },
  {
   "cell_type": "code",
   "execution_count": null,
   "outputs": [],
   "source": [
    "img_highpass = Image.fromarray(img_filtered_highpass_1.astype('uint8'))\n",
    "img_highpass.show()\n",
    "img_highpass.save('lena-512-highpass-' + str(cutoff) + '.png')"
   ],
   "metadata": {
    "collapsed": false,
    "ExecuteTime": {
     "start_time": "2023-06-17T17:36:00.359108Z",
     "end_time": "2023-06-17T17:38:46.118060Z"
    }
   }
  },
  {
   "cell_type": "code",
   "execution_count": null,
   "outputs": [],
   "source": [
    "# 绘制频率响应\n",
    "def plot_horizontal_slice(mask, title='Horizontal Slice through the Center'):\n",
    "    center_row = mask.shape[0] // 2\n",
    "    plt.figure()\n",
    "    plt.plot(mask[center_row, :])\n",
    "    plt.title(title)\n",
    "    plt.xlabel('Frequency')\n",
    "    plt.ylabel('Amplitude')\n",
    "    plt.grid(True)\n",
    "    plt.show()\n",
    "\n",
    "# Example usage:\n",
    "img_shape = (256, 256)  # Example image shape"
   ],
   "metadata": {
    "collapsed": false,
    "ExecuteTime": {
     "start_time": "2023-06-18T02:35:54.143535Z",
     "end_time": "2023-06-18T02:35:55.106547Z"
    }
   }
  },
  {
   "cell_type": "code",
   "execution_count": 2,
   "outputs": [
    {
     "ename": "NameError",
     "evalue": "name 'ideal_lowpass_filter' is not defined",
     "output_type": "error",
     "traceback": [
      "\u001B[1;31m---------------------------------------------------------------------------\u001B[0m",
      "\u001B[1;31mNameError\u001B[0m                                 Traceback (most recent call last)",
      "Input \u001B[1;32mIn [2]\u001B[0m, in \u001B[0;36m<cell line: 6>\u001B[1;34m()\u001B[0m\n\u001B[0;32m      3\u001B[0m cutoff_high \u001B[38;5;241m=\u001B[39m \u001B[38;5;241m50\u001B[39m\n\u001B[0;32m      5\u001B[0m \u001B[38;5;66;03m# Generate the masks\u001B[39;00m\n\u001B[1;32m----> 6\u001B[0m lowpass_mask \u001B[38;5;241m=\u001B[39m \u001B[43mideal_lowpass_filter\u001B[49m(np\u001B[38;5;241m.\u001B[39mzeros(img_shape), cutoff_low, order)\n\u001B[0;32m      8\u001B[0m \u001B[38;5;66;03m# Plot horizontal and vertical slices\u001B[39;00m\n\u001B[0;32m      9\u001B[0m plot_horizontal_slice(lowpass_mask, title\u001B[38;5;241m=\u001B[39m\u001B[38;5;124m'\u001B[39m\u001B[38;5;124mHorizontal Slice of Butterworth Low-pass Filter\u001B[39m\u001B[38;5;124m'\u001B[39m)\n",
      "\u001B[1;31mNameError\u001B[0m: name 'ideal_lowpass_filter' is not defined"
     ]
    }
   ],
   "source": [
    "# 频率响应\n",
    "cutoff_low = 20\n",
    "cutoff_high = 50\n",
    "\n",
    "# Generate the masks\n",
    "lowpass_mask = ideal_lowpass_filter(np.zeros(img_shape), cutoff_low, order)\n",
    "\n",
    "# Plot horizontal and vertical slices\n",
    "plot_horizontal_slice(lowpass_mask, title='Horizontal Slice of Butterworth Low-pass Filter')"
   ],
   "metadata": {
    "collapsed": false,
    "ExecuteTime": {
     "start_time": "2023-06-18T02:15:13.115591Z",
     "end_time": "2023-06-18T02:15:13.495492Z"
    }
   }
  },
  {
   "cell_type": "code",
   "execution_count": null,
   "outputs": [],
   "source": [],
   "metadata": {
    "collapsed": false
   }
  }
 ],
 "metadata": {
  "kernelspec": {
   "name": "pytorch_jupyter",
   "language": "python",
   "display_name": "pytorch_jupyter"
  },
  "language_info": {
   "codemirror_mode": {
    "name": "ipython",
    "version": 2
   },
   "file_extension": ".py",
   "mimetype": "text/x-python",
   "name": "python",
   "nbconvert_exporter": "python",
   "pygments_lexer": "ipython2",
   "version": "2.7.6"
  }
 },
 "nbformat": 4,
 "nbformat_minor": 0
}
