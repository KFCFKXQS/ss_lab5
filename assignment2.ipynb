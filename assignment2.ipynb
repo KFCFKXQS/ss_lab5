{
 "cells": [
  {
   "cell_type": "code",
   "execution_count": null,
   "metadata": {
    "collapsed": true,
    "ExecuteTime": {
     "start_time": "2023-06-17T23:53:10.647896Z",
     "end_time": "2023-06-17T23:53:10.700924Z"
    }
   },
   "outputs": [],
   "source": [
    "import numpy as np\n",
    "import matplotlib.pyplot as plt\n",
    "from PIL import Image\n",
    "from scipy import fftpack\n",
    "from scipy import signal\n",
    "import os"
   ]
  },
  {
   "cell_type": "markdown",
   "source": [
    "# 读图，转频域"
   ],
   "metadata": {
    "collapsed": false
   }
  },
  {
   "cell_type": "code",
   "execution_count": null,
   "outputs": [],
   "source": [
    "# 打开图片\n",
    "img1 = Image.open('lena-512-gray.png').convert('L')\n",
    "img1_array=np.array(img1)# 用fft-pack的内置函数\n",
    "F = fftpack.fftn(img1_array)\n",
    "F_magnitude = np.abs(fftpack.fftshift(F))\n",
    "# 对数变换，使值域变为正值\n",
    "F_magnitude_log = np.log1p(F_magnitude)\n",
    "\n",
    "# 归一化到0-255\n",
    "F_magnitude_rescale = 255 * (F_magnitude_log - F_magnitude_log.min()) / (F_magnitude_log.max() - F_magnitude_log.min())\n",
    "\n",
    "# 转为8位无符号整数\n",
    "F_magnitude_uint8 = np.uint8(F_magnitude_rescale)\n",
    "\n",
    "# 保存频谱图\n",
    "# 转为Pillow图像并保存\n",
    "Image.fromarray(F_magnitude_uint8).save('./assignment2/lena-512-freq.png')"
   ],
   "metadata": {
    "collapsed": false,
    "ExecuteTime": {
     "start_time": "2023-06-17T23:53:10.660902Z",
     "end_time": "2023-06-17T23:53:10.759897Z"
    }
   }
  },
  {
   "cell_type": "markdown",
   "source": [
    "# 非理想滤波器\n"
   ],
   "metadata": {
    "collapsed": false
   }
  },
  {
   "cell_type": "code",
   "execution_count": null,
   "outputs": [],
   "source": [
    "# 绘制频率响应\n",
    "def plot_horizontal_slice(mask, title='Horizontal Slice through the Center'):\n",
    "    center_row = mask.shape[0] // 2\n",
    "    plt.figure()\n",
    "    plt.plot(mask[center_row, :])\n",
    "    plt.title(title)\n",
    "    plt.xlabel('Frequency')\n",
    "    plt.ylabel('Amplitude')\n",
    "    plt.grid(True)\n",
    "    plt.show()\n",
    "\n",
    "# Example usage:\n",
    "img_shape = (256, 256)  # Example image shape"
   ],
   "metadata": {
    "collapsed": false,
    "ExecuteTime": {
     "start_time": "2023-06-17T23:53:10.707900Z",
     "end_time": "2023-06-17T23:53:10.759897Z"
    }
   }
  },
  {
   "cell_type": "markdown",
   "source": [
    "# 1、巴特沃斯滤波器\n",
    "<sup>低通：</sup>\n",
    "$H(u,v) = \\frac{1}{1 + \\left(\\frac{D(u,v)}{D0}\\right)^{2n}}$\n",
    "<sup>高通：</sup>\n",
    "$H(u,v) = \\frac{1}{1 + \\left(\\frac{D0}{D(u,v)}\\right)^{2n}}$\n",
    "<sup>带通：</sup>\n",
    "$H(u,v) = \\frac{1}{1 + \\left(\\frac{D(u,v)}{D0}\\right)^{2n}} \\times \\frac{1}{1 + \\left(\\frac{D1}{D(u,v)}\\right)^{2n}}$"
   ],
   "metadata": {
    "collapsed": false
   }
  },
  {
   "cell_type": "code",
   "execution_count": null,
   "outputs": [],
   "source": [
    "# 非理想滤波器\n",
    "# Butterworth\n",
    "# lowpass\n",
    "def butterworth_lowpass_filter(img, cutoff, order):\n",
    "    m, n = img.shape\n",
    "    u = np.arange(m) - m // 2\n",
    "    v = np.arange(n) - n // 2\n",
    "    U, V = np.meshgrid(u, v)\n",
    "    D = np.sqrt(U**2 + V**2)+1e-5\n",
    "    mask = 1 / (1 + (D / cutoff) ** (2 * order))\n",
    "    return mask\n",
    "\n",
    "# highpass\n",
    "def butterworth_highpass_filter(img, cutoff, order):\n",
    "    m, n = img.shape\n",
    "    u = np.arange(m) - m // 2\n",
    "    v = np.arange(n) - n // 2\n",
    "    U, V = np.meshgrid(u, v)\n",
    "    D = np.sqrt(U**2 + V**2)+1e-5\n",
    "    mask = 1 / (1 + (cutoff / D) ** (2 * order))\n",
    "    return mask\n",
    "\n",
    "# bandpass\n",
    "def butterworth_bandpass_filter(img, low_cutoff, high_cutoff, order):\n",
    "    return butterworth_lowpass_filter(img, high_cutoff, order) * butterworth_highpass_filter(img, low_cutoff, order)\n"
   ],
   "metadata": {
    "collapsed": false,
    "ExecuteTime": {
     "start_time": "2023-06-18T00:22:48.284758Z",
     "end_time": "2023-06-18T00:22:48.316783Z"
    }
   }
  },
  {
   "cell_type": "code",
   "execution_count": null,
   "outputs": [],
   "source": [
    "# 频率响应\n",
    "cutoff_low = 20\n",
    "cutoff_high = 50\n",
    "order = 5  # Higher order for steeper transition\n",
    "\n",
    "# Generate the masks\n",
    "lowpass_mask = butterworth_lowpass_filter(np.zeros(img_shape), cutoff_low, order)\n",
    "\n",
    "# Plot horizontal and vertical slices\n",
    "plot_horizontal_slice(lowpass_mask, title='Horizontal Slice of Butterworth Low-pass Filter (Order {})'.format(order))"
   ],
   "metadata": {
    "collapsed": false,
    "ExecuteTime": {
     "start_time": "2023-06-17T23:53:10.738901Z",
     "end_time": "2023-06-17T23:53:10.913905Z"
    }
   }
  },
  {
   "cell_type": "markdown",
   "source": [
    "<sup>2、高斯滤波器</sup>\n",
    "<sup>低通：</sup>\n",
    "$H(u,v) = e^{\\frac{-D(u,v)^{2}}{2D_{0}^{2}}}$\n",
    "<sup>高通：</sup>\n",
    "$H(u,v) = 1 - e^{\\frac{-D(u,v)^{2}}{2D_{0}^{2}}}$\n",
    "<sup>带通：</sup>\n",
    "$H(u,v) = e^{\\frac{-D(u,v)^{2}}{2D_{1}^{2}}} - e^{\\frac{-D(u,v)^{2}}{2D_{0}^{2}}}$"
   ],
   "metadata": {
    "collapsed": false
   }
  },
  {
   "cell_type": "code",
   "execution_count": null,
   "outputs": [],
   "source": [
    "# Gauss\n",
    "# lowpass\n",
    "def gaussian_lowpass_filter(img, cutoff):\n",
    "    m, n = img.shape\n",
    "    u = np.arange(m) - m // 2\n",
    "    v = np.arange(n) - n // 2\n",
    "    U, V = np.meshgrid(u, v)\n",
    "    D = np.sqrt(U**2 + V**2)\n",
    "    mask = np.exp(-D**2 / (2 * cutoff**2))\n",
    "    return mask\n",
    "\n",
    "# highpass\n",
    "def gaussian_highpass_filter(img, cutoff):\n",
    "    m, n = img.shape\n",
    "    u = np.arange(m) - m // 2\n",
    "    v = np.arange(n) - n // 2\n",
    "    U, V = np.meshgrid(u, v)\n",
    "    D = np.sqrt(U**2 + V**2)\n",
    "    mask = 1 - np.exp(-D**2 / (2 * cutoff**2))\n",
    "    return mask\n",
    "\n",
    "# bandpass\n",
    "def gaussian_bandpass_filter(img, low_cutoff, high_cutoff):\n",
    "    m, n = img.shape\n",
    "    u = np.arange(m) - m // 2\n",
    "    v = np.arange(n) - n // 2\n",
    "    U, V = np.meshgrid(u, v)\n",
    "    D = np.sqrt(U**2 + V**2)\n",
    "    mask_low = np.exp(-D**2 / (2 * low_cutoff ** 2))\n",
    "    mask_high = 1 - np.exp(-D**2 / (2 * high_cutoff ** 2))\n",
    "    mask = mask_high - mask_low\n",
    "    return mask"
   ],
   "metadata": {
    "collapsed": false,
    "ExecuteTime": {
     "start_time": "2023-06-18T00:22:52.311089Z",
     "end_time": "2023-06-18T00:22:52.329092Z"
    }
   }
  },
  {
   "cell_type": "code",
   "execution_count": null,
   "outputs": [],
   "source": [
    "# 频率响应\n",
    "cutoff_low = 20\n",
    "order = 5  # Higher order for steeper transition\n",
    "\n",
    "# Generate the masks\n",
    "lowpass_mask = gaussian_lowpass_filter(np.zeros(img_shape), cutoff_low)\n",
    "\n",
    "\n",
    "# Plot horizontal and vertical slices\n",
    "plot_horizontal_slice(lowpass_mask, title='Horizontal Slice of Gaussian Low-pass Filter (Order {})'.format(order))"
   ],
   "metadata": {
    "collapsed": false,
    "ExecuteTime": {
     "start_time": "2023-06-17T23:53:10.930902Z",
     "end_time": "2023-06-17T23:53:11.104898Z"
    }
   }
  },
  {
   "cell_type": "markdown",
   "source": [
    "<sup>3、椭圆滤波器</sup>\n",
    "椭圆滤波器的模拟传递函数：\n",
    "$\\[H(s) = \\frac{P(s)}{Q(s)}\\]$\n",
    "\n",
    "数字椭圆滤波器的传递函数：\n",
    "$\\[H(z) = \\frac{B(z)}{A(z)}\\]$\n"
   ],
   "metadata": {
    "collapsed": false
   }
  },
  {
   "cell_type": "code",
   "execution_count": null,
   "outputs": [],
   "source": [
    "def elliptic_lowpass_filter(img, rp, rs, cutoff, order=5):\n",
    "    m, n = img.shape\n",
    "    u = np.arange(m) - m // 2\n",
    "    v = np.arange(n) - n // 2\n",
    "    U, V = np.meshgrid(u, v)\n",
    "    D = np.sqrt(U**2 + V**2)\n",
    "\n",
    "    # Normalize the frequency\n",
    "    D_norm = D / np.max(D)\n",
    "\n",
    "    # Compute the filter coefficients\n",
    "    b, a = signal.ellip(order, rp, rs, cutoff, 'low', analog=False)  # Set analog to False for digital filter\n",
    "\n",
    "    # Evaluate the elliptic rational function\n",
    "    w, h = signal.freqz(b, a, worN=D_norm.ravel(), fs=2)  # Use freqz for digital filter\n",
    "    h = h.reshape(D_norm.shape)\n",
    "    return np.abs(h)\n",
    "\n",
    "def elliptic_highpass_filter(img, rp, rs, cutoff, order=5):\n",
    "    m, n = img.shape\n",
    "    u = np.arange(m) - m // 2\n",
    "    v = np.arange(n) - n // 2\n",
    "    U, V = np.meshgrid(u, v)\n",
    "    D = np.sqrt(U**2 + V**2)\n",
    "\n",
    "    # Normalize the frequency\n",
    "    D_norm = D / np.max(D)\n",
    "\n",
    "    # Compute the filter coefficients\n",
    "    b, a = signal.ellip(order, rp, rs, cutoff, 'high', analog=False)  # Set analog to False for digital filter\n",
    "\n",
    "    # Evaluate the elliptic rational function\n",
    "    w, h = signal.freqz(b, a, worN=D_norm.ravel(), fs=2)  # Use freqz for digital filter\n",
    "    h = h.reshape(D_norm.shape)\n",
    "    return np.abs(h)\n",
    "\n",
    "def elliptic_bandpass_filter(img, rp, rs, low_cutoff,high_cutoff, order=5):\n",
    "    m, n = img.shape\n",
    "    u = np.arange(m) - m // 2\n",
    "    v = np.arange(n) - n // 2\n",
    "    U, V = np.meshgrid(u, v)\n",
    "    D = np.sqrt(U**2 + V**2)\n",
    "\n",
    "    # Normalize the frequency\n",
    "    D_norm = D / np.max(D)\n",
    "\n",
    "    # Compute the filter coefficients\n",
    "    b, a = signal.ellip(order, rp, rs, [low_cutoff, high_cutoff], 'band', analog=False)  # Set analog to False for digital filter\n",
    "\n",
    "    # Evaluate the elliptic rational function\n",
    "    w, h = signal.freqz(b, a, worN=D_norm.ravel(), fs=2)  # Use freqz for digital filter\n",
    "    h = h.reshape(D_norm.shape)\n",
    "    return np.abs(h)"
   ],
   "metadata": {
    "collapsed": false,
    "ExecuteTime": {
     "start_time": "2023-06-18T00:22:55.409883Z",
     "end_time": "2023-06-18T00:22:55.428411Z"
    }
   }
  },
  {
   "cell_type": "code",
   "execution_count": null,
   "outputs": [],
   "source": [
    "# 频率响应\n",
    "rp = 1        # Ripple in the passband (dB)\n",
    "rs = 40       # Attenuation in the stopband (dB)\n",
    "cutoff = 0.1  # Cutoff frequency as a fraction of the Nyquist frequency\n",
    "order = 5    # Order of the elliptic filter\n",
    "\n",
    "# Create elliptic lowpass filter mask\n",
    "elliptic_lowpass_mask = elliptic_lowpass_filter(np.zeros(img_shape), rp, rs, cutoff, order)\n",
    "elliptic_highpass_mask = elliptic_highpass_filter(np.zeros(img_shape), rp, rs, cutoff, order)\n",
    "elliptic_bandpass_mask = elliptic_bandpass_filter(np.zeros(img_shape), rp, rs,0.1,0.5, order)\n",
    "# Plot horizontal and vertical slices through the mask\n",
    "plot_horizontal_slice(elliptic_lowpass_mask, title='Horizontal Slice of Elliptic Low-pass Filter (Order {})'.format(order))\n",
    "plot_horizontal_slice(elliptic_highpass_mask, title='Horizontal Slice of Elliptic High-pass Filter (Order {})'.format(order))\n",
    "plot_horizontal_slice(elliptic_bandpass_mask, title='Horizontal Slice of Elliptic Band-pass Filter (Order {})'.format(order))"
   ],
   "metadata": {
    "collapsed": false,
    "ExecuteTime": {
     "start_time": "2023-06-17T23:53:11.124904Z",
     "end_time": "2023-06-17T23:53:11.682073Z"
    }
   }
  },
  {
   "cell_type": "code",
   "execution_count": null,
   "outputs": [],
   "source": [
    "def apply_filter(img,filter_type,band=False, *args, **kwargs):\n",
    "    print(kwargs)\n",
    "    filter=globals()[filter_type]\n",
    "    mask=filter(img,*args,**kwargs)\n",
    "    F_filtered = F * fftpack.fftshift(mask)\n",
    "    img_filtered = np.abs(fftpack.ifftn(F_filtered))\n",
    "    img_pass = Image.fromarray(img_filtered.astype('uint8'))\n",
    "    img_pass.show()\n",
    "    directory = './assignment2/' + str(filter_type)\n",
    "    # 检查文件夹是否存在，如果不存在则创建它\n",
    "    if not os.path.exists(directory):\n",
    "        os.makedirs(directory)\n",
    "\n",
    "    # 保存图像\n",
    "    if band:\n",
    "        # 获取 low 和 high 参数的值\n",
    "        low = kwargs.get('low_cutoff')\n",
    "        high = kwargs.get('high_cutoff')\n",
    "        img_pass.save(os.path.join(directory, f'lena-512-{str(filter_type.split(\"_\")[1])}_{low}-{high}.png'))\n",
    "    else:\n",
    "        img_pass.save(os.path.join(directory, f'lena-512-{str(filter_type.split(\"_\")[1])}_{args[-1]}.png'))\n",
    "    return []"
   ],
   "metadata": {
    "collapsed": false,
    "ExecuteTime": {
     "start_time": "2023-06-18T00:46:15.844634Z",
     "end_time": "2023-06-18T00:46:15.872632Z"
    }
   }
  },
  {
   "cell_type": "code",
   "execution_count": null,
   "outputs": [],
   "source": [
    "for low_cutoff in range(10,100,10):\n",
    "    apply_filter(img1_array,'butterworth_lowpass_filter',low_cutoff,order=5)\n",
    "    apply_filter(img1_array,'gaussian_lowpass_filter',low_cutoff)\n",
    "    apply_filter(img1_array,'elliptic_lowpass_filter',1,40,low_cutoff/100,order=5)"
   ],
   "metadata": {
    "collapsed": false,
    "ExecuteTime": {
     "start_time": "2023-06-17T23:58:52.786966Z",
     "end_time": "2023-06-18T00:00:22.741989Z"
    }
   }
  },
  {
   "cell_type": "code",
   "execution_count": null,
   "outputs": [],
   "source": [
    "for high_cutoff in range(10,100,10):\n",
    "    apply_filter(img1_array,'butterworth_highpass_filter',high_cutoff,order=5)\n",
    "    apply_filter(img1_array,'gaussian_highpass_filter',high_cutoff)\n",
    "    apply_filter(img1_array,'elliptic_highpass_filter',1,40,high_cutoff/100,order=5)"
   ],
   "metadata": {
    "collapsed": false,
    "ExecuteTime": {
     "start_time": "2023-06-17T23:53:15.059821Z",
     "end_time": "2023-06-17T23:53:15.075810Z"
    }
   }
  },
  {
   "cell_type": "code",
   "execution_count": null,
   "outputs": [],
   "source": [
    "for low_cutoff in range(20,81,20):\n",
    "    for high_cutoff in range(low_cutoff+20,low_cutoff+81,20):\n",
    "        apply_filter(img=img1_array, band=True, filter_type='butterworth_bandpass_filter', low_cutoff=low_cutoff, high_cutoff=high_cutoff, order=5)\n",
    "        apply_filter(img=img1_array, band=True, filter_type='gaussian_bandpass_filter', low_cutoff=low_cutoff, high_cutoff=high_cutoff)\n",
    "        apply_filter(img=img1_array, band=True, filter_type='elliptic_bandpass_filter', rp=1, rs=40, low_cutoff=low_cutoff/100, high_cutoff=high_cutoff/100, order=5)\n"
   ],
   "metadata": {
    "collapsed": false
   }
  },
  {
   "cell_type": "code",
   "execution_count": null,
   "outputs": [],
   "source": [],
   "metadata": {
    "collapsed": false
   }
  }
 ],
 "metadata": {
  "kernelspec": {
   "display_name": "Python 3",
   "language": "python",
   "name": "python3"
  },
  "language_info": {
   "codemirror_mode": {
    "name": "ipython",
    "version": 2
   },
   "file_extension": ".py",
   "mimetype": "text/x-python",
   "name": "python",
   "nbconvert_exporter": "python",
   "pygments_lexer": "ipython2",
   "version": "2.7.6"
  }
 },
 "nbformat": 4,
 "nbformat_minor": 0
}
